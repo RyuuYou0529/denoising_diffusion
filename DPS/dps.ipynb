{
 "cells": [
  {
   "cell_type": "code",
   "execution_count": 1,
   "metadata": {},
   "outputs": [],
   "source": [
    "import sys\n",
    "sys.path.insert(0, '/home/ryuuyou/Project/denoising-diffusion/')"
   ]
  },
  {
   "cell_type": "code",
   "execution_count": 2,
   "metadata": {},
   "outputs": [
    {
     "name": "stderr",
     "output_type": "stream",
     "text": [
      "/home/ryuuyou/.conda/envs/dm/lib/python3.10/site-packages/tqdm/auto.py:21: TqdmWarning: IProgress not found. Please update jupyter and ipywidgets. See https://ipywidgets.readthedocs.io/en/stable/user_install.html\n",
      "  from .autonotebook import tqdm as notebook_tqdm\n"
     ]
    }
   ],
   "source": [
    "from denoising_diffusion_pytorch import Unet, Sampler, tensor_info, histc\n",
    "from degradation_model import DenoiseOperator, AnisotropicOperator, GaussialBlurOperator, UnetAnisotropicOperator, SelfNetAnisotropicOperator\n",
    "from diffusion_posterior_sample import DPS\n",
    "\n",
    "import torch\n",
    "from torchvision import utils, transforms as T\n",
    "\n",
    "import numpy as np\n",
    "import tifffile as tif\n",
    "import os"
   ]
  },
  {
   "attachments": {},
   "cell_type": "markdown",
   "metadata": {},
   "source": [
    "# Model"
   ]
  },
  {
   "cell_type": "code",
   "execution_count": 3,
   "metadata": {},
   "outputs": [],
   "source": [
    "# sampling_timesteps = 1000\n",
    "# is_ddim_sampling = False\n",
    "\n",
    "sampling_timesteps = 250\n",
    "is_ddim_sampling = True"
   ]
  },
  {
   "cell_type": "code",
   "execution_count": 4,
   "metadata": {},
   "outputs": [],
   "source": [
    "model = Unet(\n",
    "    dim = 64,\n",
    "    channels=1,\n",
    "    dim_mults = (1, 2, 4, 8)\n",
    ")\n",
    "diffusion = DPS(\n",
    "    model,\n",
    "    image_size = 128,\n",
    "    timesteps = 1000,\n",
    "    sampling_timesteps = sampling_timesteps,\n",
    "    is_ddim_sampling=is_ddim_sampling\n",
    ")\n",
    "sampler = Sampler(diffusion)"
   ]
  },
  {
   "cell_type": "code",
   "execution_count": 5,
   "metadata": {},
   "outputs": [
    {
     "name": "stdout",
     "output_type": "stream",
     "text": [
      "model path: /home/ryuuyou/Project/denoising-diffusion/checkpoints/care_liver/model-15.pt\n",
      "loading from: [version]:1.5.4; [step]:150000\n"
     ]
    }
   ],
   "source": [
    "base_path = '/home/ryuuyou/Project/denoising-diffusion/checkpoints/care_liver/'\n",
    "model_path = os.path.join(base_path, 'model-15.pt')\n",
    "print(f'model path: {model_path}')\n",
    "\n",
    "sampler.load(path=model_path)"
   ]
  },
  {
   "attachments": {},
   "cell_type": "markdown",
   "metadata": {},
   "source": [
    "# Data"
   ]
  },
  {
   "cell_type": "code",
   "execution_count": 6,
   "metadata": {},
   "outputs": [],
   "source": [
    "# data_path = \"/home/share/data/CARE/Isotropic_Liver/train_data/data_label.npz\"\n",
    "# data_file = np.load(data_path)\n",
    "# file_name = 'X'\n",
    "# data = data_file[file_name]"
   ]
  },
  {
   "cell_type": "code",
   "execution_count": 7,
   "metadata": {},
   "outputs": [],
   "source": [
    "# data_index = 0\n",
    "# measurment = torch.from_numpy(data[data_index:data_index+1]).cuda()\n",
    "# tensor_info(measurment)"
   ]
  },
  {
   "cell_type": "code",
   "execution_count": 8,
   "metadata": {},
   "outputs": [],
   "source": [
    "# gt = data_file['Y']\n",
    "# gt_measurment = torch.from_numpy(gt[data_index:data_index+1]).cuda()\n",
    "# tensor_info(gt)"
   ]
  },
  {
   "cell_type": "markdown",
   "metadata": {},
   "source": [
    "# Data 2"
   ]
  },
  {
   "cell_type": "code",
   "execution_count": 9,
   "metadata": {},
   "outputs": [
    {
     "data": {
      "text/plain": [
       "(752, 1, 752, 301)"
      ]
     },
     "execution_count": 9,
     "metadata": {},
     "output_type": "execute_result"
    }
   ],
   "source": [
    "data_path = \"/home/share/data/CARE/Isotropic_Liver/test_data/input_subsample_8.tif\"\n",
    "data = tif.imread(data_path)\n",
    "data = np.expand_dims(np.moveaxis(data, 0, -1), axis=1).astype(np.float32)\n",
    "data.shape"
   ]
  },
  {
   "cell_type": "code",
   "execution_count": 10,
   "metadata": {},
   "outputs": [
    {
     "name": "stdout",
     "output_type": "stream",
     "text": [
      "shape: torch.Size([1, 1, 128, 128]) \n",
      "type: torch.float32 \n",
      "max: 2611.0           \n",
      "min: 97.0 \n",
      "mean: 376.29656982421875 \n",
      "std: 236.73397827148438\n"
     ]
    }
   ],
   "source": [
    "data_index = 0\n",
    "measurment = torch.from_numpy(data[data_index:data_index+1, :, 300:300+128, 100:100+128]).cuda()\n",
    "tensor_info(measurment)"
   ]
  },
  {
   "cell_type": "code",
   "execution_count": 11,
   "metadata": {},
   "outputs": [
    {
     "data": {
      "text/plain": [
       "(752, 1, 752, 301)"
      ]
     },
     "execution_count": 11,
     "metadata": {},
     "output_type": "execute_result"
    }
   ],
   "source": [
    "gt_path = \"/home/share/data/CARE/Isotropic_Liver/test_data/input_subsample_1_groundtruth.tif\"\n",
    "gt = tif.imread(gt_path)\n",
    "gt = np.expand_dims(np.moveaxis(gt, 0, -1), axis=1).astype(np.float32)\n",
    "data.shape"
   ]
  },
  {
   "cell_type": "code",
   "execution_count": 12,
   "metadata": {},
   "outputs": [
    {
     "name": "stdout",
     "output_type": "stream",
     "text": [
      "shape: torch.Size([1, 1, 128, 128]) \n",
      "type: torch.float32 \n",
      "max: 2957.0           \n",
      "min: 70.0 \n",
      "mean: 378.065673828125 \n",
      "std: 259.2381591796875\n"
     ]
    }
   ],
   "source": [
    "data_index = 0\n",
    "gt_measurment = torch.from_numpy(gt[data_index:data_index+1, :, 300:300+128, 100:100+128]).cuda()\n",
    "tensor_info(gt_measurment)"
   ]
  },
  {
   "attachments": {},
   "cell_type": "markdown",
   "metadata": {},
   "source": [
    "# Operator"
   ]
  },
  {
   "cell_type": "code",
   "execution_count": 13,
   "metadata": {},
   "outputs": [],
   "source": [
    "measurment_type = ['identity', 'denoise', 'deblur', 'iso_sr', 'iso_sr_dl'][4]"
   ]
  },
  {
   "cell_type": "code",
   "execution_count": 14,
   "metadata": {},
   "outputs": [
    {
     "data": {
      "text/plain": [
       "'iso_sr_dl'"
      ]
     },
     "execution_count": 14,
     "metadata": {},
     "output_type": "execute_result"
    }
   ],
   "source": [
    "measurment_type"
   ]
  },
  {
   "cell_type": "code",
   "execution_count": 15,
   "metadata": {},
   "outputs": [
    {
     "name": "stdout",
     "output_type": "stream",
     "text": [
      "iso_sr_dl\n",
      "initialize network with normal\n"
     ]
    }
   ],
   "source": [
    "print(f'{measurment_type}')\n",
    "\n",
    "if measurment_type == 'identity':\n",
    "    operator = DenoiseOperator()\n",
    "\n",
    "elif measurment_type == 'denoise':\n",
    "    measurment = measurment+torch.randn_like(measurment, device=measurment.device)*0.1\n",
    "    operator = DenoiseOperator()\n",
    "\n",
    "elif measurment_type == 'deblur':\n",
    "    blur = T.GaussianBlur(kernel_size=19, sigma=3.0)\n",
    "    measurment = blur(measurment)\n",
    "    operator = GaussialBlurOperator(img_shape=measurment.shape)\n",
    "\n",
    "elif measurment_type == 'iso_sr':\n",
    "    operator = AnisotropicOperator(img_shape=measurment.shape, scale=(1,3), noise_sigma=0.01)\n",
    "\n",
    "elif measurment_type == 'iso_sr_dl':\n",
    "    # d_model_path = 'denoising_diffusion_pytorch/degradation_model/checkpoint/best.pth'\n",
    "    # operator = UnetAnisotropicOperator(d_model_path, noise_sigma=0.01)\n",
    "    operator = SelfNetAnisotropicOperator(path='/home/ryuuyou/Project/self_net/data/care_liver/checkpoint/saved_models/netG_A/60_3200.pkl')"
   ]
  },
  {
   "cell_type": "code",
   "execution_count": 16,
   "metadata": {},
   "outputs": [
    {
     "name": "stdout",
     "output_type": "stream",
     "text": [
      "shape: torch.Size([1, 1, 128, 128]) \n",
      "type: torch.float32 \n",
      "max: 1.0           \n",
      "min: 0.0 \n",
      "mean: 0.11109648644924164 \n",
      "std: 0.09416625648736954\n"
     ]
    }
   ],
   "source": [
    "norm_type = 'min_max'\n",
    "# norm_type = None\n",
    "if norm_type == 'z_score':\n",
    "    normalize = lambda t:(t-t.mean())/(t.std())\n",
    "elif norm_type == 'min_max':\n",
    "    normalize = lambda t:(t - t.min())/(t.max()-t.min())\n",
    "else:\n",
    "    normalize = lambda t:t\n",
    "\n",
    "measurment = normalize(measurment)\n",
    "tensor_info(measurment)"
   ]
  },
  {
   "attachments": {},
   "cell_type": "markdown",
   "metadata": {},
   "source": [
    "# Inference"
   ]
  },
  {
   "cell_type": "code",
   "execution_count": 26,
   "metadata": {},
   "outputs": [],
   "source": [
    "scale = 8\n",
    "num_samples = 16\n",
    "return_all_timesteps = False"
   ]
  },
  {
   "cell_type": "code",
   "execution_count": 27,
   "metadata": {},
   "outputs": [
    {
     "name": "stderr",
     "output_type": "stream",
     "text": [
      "sampling loop time step:   0%|          | 0/250 [00:00<?, ?it/s]"
     ]
    },
    {
     "name": "stderr",
     "output_type": "stream",
     "text": [
      "sampling loop time step: 100%|██████████| 250/250 [00:53<00:00,  4.70it/s]\n"
     ]
    },
    {
     "name": "stdout",
     "output_type": "stream",
     "text": [
      "shape: torch.Size([16, 1, 128, 128]) \n",
      "type: torch.float32 \n",
      "max: 1.0           \n",
      "min: 0.47038328647613525 \n",
      "mean: 0.6204744577407837 \n",
      "std: 0.07712245732545853\n"
     ]
    }
   ],
   "source": [
    "res = sampler.dps(measurement=measurment, operator=operator, num_samples=num_samples, scale=scale, return_all_timesteps=return_all_timesteps)\n",
    "tensor_info(res)"
   ]
  },
  {
   "cell_type": "code",
   "execution_count": 28,
   "metadata": {},
   "outputs": [
    {
     "name": "stdout",
     "output_type": "stream",
     "text": [
      "out/iso_sr_dl/s8\n"
     ]
    }
   ],
   "source": [
    "out_folder = os.path.join('out/', measurment_type, 's'+str(scale).replace('.', 'd'))\n",
    "print(out_folder)\n",
    "sampler.save_tif(measurment, folder=out_folder, file_name='input.tif', make_grid=False)\n",
    "if not return_all_timesteps:\n",
    "    sampler.save_tif(res, folder=out_folder)\n",
    "else:\n",
    "    sampler.save_tif_with_records(res, folder=out_folder, step=10)"
   ]
  },
  {
   "cell_type": "code",
   "execution_count": 29,
   "metadata": {},
   "outputs": [],
   "source": [
    "sampler.save_tif(gt_measurment, folder=out_folder, file_name='gt.tif', make_grid=False)"
   ]
  },
  {
   "cell_type": "code",
   "execution_count": 21,
   "metadata": {},
   "outputs": [],
   "source": [
    "#"
   ]
  }
 ],
 "metadata": {
  "kernelspec": {
   "display_name": "dm",
   "language": "python",
   "name": "python3"
  },
  "language_info": {
   "codemirror_mode": {
    "name": "ipython",
    "version": 3
   },
   "file_extension": ".py",
   "mimetype": "text/x-python",
   "name": "python",
   "nbconvert_exporter": "python",
   "pygments_lexer": "ipython3",
   "version": "3.10.8"
  },
  "orig_nbformat": 4
 },
 "nbformat": 4,
 "nbformat_minor": 2
}
