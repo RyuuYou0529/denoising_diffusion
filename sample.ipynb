{
 "cells": [
  {
   "cell_type": "code",
   "execution_count": 1,
   "metadata": {},
   "outputs": [
    {
     "name": "stderr",
     "output_type": "stream",
     "text": [
      "/home/ryuuyou/.conda/envs/dm/lib/python3.10/site-packages/tqdm/auto.py:21: TqdmWarning: IProgress not found. Please update jupyter and ipywidgets. See https://ipywidgets.readthedocs.io/en/stable/user_install.html\n",
      "  from .autonotebook import tqdm as notebook_tqdm\n"
     ]
    }
   ],
   "source": [
    "import torch\n",
    "from torchvision import utils\n",
    "from torch.cuda.amp import autocast\n",
    "\n",
    "import math\n",
    "import os\n",
    "\n",
    "from denoising_diffusion_pytorch import Unet, GaussianDiffusion, Sampler, tensor_info, histc\n",
    "\n",
    "from matplotlib import pyplot as plt\n",
    "\n",
    "import numpy as np"
   ]
  },
  {
   "cell_type": "code",
   "execution_count": 2,
   "metadata": {},
   "outputs": [],
   "source": [
    "model = Unet(\n",
    "    dim = 64,\n",
    "    channels=1,\n",
    "    dim_mults = (1, 2, 4, 8)\n",
    ")\n"
   ]
  },
  {
   "cell_type": "code",
   "execution_count": 3,
   "metadata": {},
   "outputs": [],
   "source": [
    "diffusion = GaussianDiffusion(\n",
    "    model,\n",
    "    image_size = 128,\n",
    "    timesteps = 1000,\n",
    "    sampling_timesteps = 250,\n",
    "    loss_type = 'l1'\n",
    ")"
   ]
  },
  {
   "cell_type": "code",
   "execution_count": 4,
   "metadata": {},
   "outputs": [],
   "source": [
    "sampler = Sampler(diffusion)"
   ]
  },
  {
   "cell_type": "code",
   "execution_count": 5,
   "metadata": {},
   "outputs": [
    {
     "name": "stdout",
     "output_type": "stream",
     "text": [
      "loading from: [version]:1.5.4; [step]:150000\n"
     ]
    }
   ],
   "source": [
    "path = 'pretrained_y/model_150k_steps_lr1e-5.pt'\n",
    "sampler.load(path=path)"
   ]
  },
  {
   "cell_type": "code",
   "execution_count": 6,
   "metadata": {},
   "outputs": [],
   "source": [
    "save_folder = 'sample_out'\n",
    "num_samples = 16\n",
    "return_all_timesteps = True"
   ]
  },
  {
   "cell_type": "code",
   "execution_count": 7,
   "metadata": {},
   "outputs": [
    {
     "name": "stderr",
     "output_type": "stream",
     "text": [
      "sampling loop time step: 100%|██████████| 250/250 [00:19<00:00, 12.83it/s]\n"
     ]
    },
    {
     "name": "stdout",
     "output_type": "stream",
     "text": [
      "shape: torch.Size([251, 16, 1, 128, 128]) \n",
      "type: torch.float32 \n",
      "max: 2.910015106201172 \n",
      "min: -1.734142780303955 \n",
      "mean: 0.30561894178390503\n"
     ]
    }
   ],
   "source": [
    "res = sampler.sample(num_samples=num_samples, return_all_timesteps=return_all_timesteps)\n",
    "tensor_info(res)"
   ]
  },
  {
   "cell_type": "code",
   "execution_count": 8,
   "metadata": {},
   "outputs": [],
   "source": [
    "# histc(res, os.path.join(save_folder, 'res_histc.png'))\n",
    "\n",
    "if not return_all_timesteps:\n",
    "    sampler.save_tif(res, path=os.path.join(save_folder, 'res.tif'))\n",
    "else:\n",
    "    sampler.save_tif_with_records(res, folder=os.path.join(save_folder, 'record/'), step=1)"
   ]
  },
  {
   "cell_type": "code",
   "execution_count": 9,
   "metadata": {},
   "outputs": [
    {
     "name": "stderr",
     "output_type": "stream",
     "text": [
      "sampling loop time step: 100%|██████████| 250/250 [00:14<00:00, 17.09it/s]"
     ]
    },
    {
     "name": "stdout",
     "output_type": "stream",
     "text": [
      "shape: torch.Size([251, 16, 1, 128, 128]) \n",
      "type: torch.float32 \n",
      "max: 2.743675470352173 \n",
      "min: -1.8430755138397217 \n",
      "mean: 0.4030703902244568\n"
     ]
    },
    {
     "name": "stderr",
     "output_type": "stream",
     "text": [
      "\n"
     ]
    }
   ],
   "source": [
    "with autocast():\n",
    "    res_amp = sampler.sample(num_samples=num_samples, return_all_timesteps=return_all_timesteps)\n",
    "tensor_info(res_amp)"
   ]
  },
  {
   "cell_type": "code",
   "execution_count": 10,
   "metadata": {},
   "outputs": [],
   "source": [
    "# histc(res_amp, os.path.join(save_folder, 'res_amp_histc.png'))\n",
    "\n",
    "if not return_all_timesteps:\n",
    "    sampler.save_tif(res_amp, path=os.path.join(save_folder, 'res_amp.tif'))\n",
    "else:\n",
    "    sampler.save_tif_with_records(res_amp, folder=os.path.join(save_folder, 'record_amp/'), step=1)"
   ]
  },
  {
   "cell_type": "code",
   "execution_count": 11,
   "metadata": {},
   "outputs": [],
   "source": [
    "#"
   ]
  }
 ],
 "metadata": {
  "kernelspec": {
   "display_name": "dm",
   "language": "python",
   "name": "python3"
  },
  "language_info": {
   "codemirror_mode": {
    "name": "ipython",
    "version": 3
   },
   "file_extension": ".py",
   "mimetype": "text/x-python",
   "name": "python",
   "nbconvert_exporter": "python",
   "pygments_lexer": "ipython3",
   "version": "3.10.8"
  },
  "orig_nbformat": 4
 },
 "nbformat": 4,
 "nbformat_minor": 2
}
