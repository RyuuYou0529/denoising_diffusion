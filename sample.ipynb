{
 "cells": [
  {
   "cell_type": "code",
   "execution_count": 1,
   "metadata": {},
   "outputs": [
    {
     "name": "stderr",
     "output_type": "stream",
     "text": [
      "/home/ryuuyou/.conda/envs/dm/lib/python3.10/site-packages/tqdm/auto.py:21: TqdmWarning: IProgress not found. Please update jupyter and ipywidgets. See https://ipywidgets.readthedocs.io/en/stable/user_install.html\n",
      "  from .autonotebook import tqdm as notebook_tqdm\n"
     ]
    }
   ],
   "source": [
    "import torch\n",
    "from torchvision import utils\n",
    "\n",
    "import math\n",
    "import os\n",
    "\n",
    "from denoising_diffusion_pytorch import Unet, GaussianDiffusion, Sampler, tensor_info, histc\n",
    "\n",
    "from matplotlib import pyplot as plt\n",
    "\n",
    "import numpy as np"
   ]
  },
  {
   "cell_type": "markdown",
   "metadata": {},
   "source": [
    "# Model"
   ]
  },
  {
   "cell_type": "code",
   "execution_count": 2,
   "metadata": {},
   "outputs": [],
   "source": [
    "sampling_timesteps = 1000\n",
    "is_ddim_sampling = False\n",
    "\n",
    "# sampling_timesteps = 250\n",
    "# is_ddim_sampling = True"
   ]
  },
  {
   "cell_type": "code",
   "execution_count": 3,
   "metadata": {},
   "outputs": [],
   "source": [
    "model = Unet(\n",
    "    dim = 64,\n",
    "    channels=1,\n",
    "    dim_mults = (1, 2, 4, 8)\n",
    ")\n",
    "diffusion = GaussianDiffusion(\n",
    "    model,\n",
    "    image_size = 128,\n",
    "    timesteps = 1000,\n",
    "    sampling_timesteps = sampling_timesteps,\n",
    "    loss_type = 'l1',\n",
    "    is_ddim_sampling=is_ddim_sampling\n",
    ")\n",
    "sampler = Sampler(diffusion)"
   ]
  },
  {
   "cell_type": "code",
   "execution_count": 4,
   "metadata": {},
   "outputs": [
    {
     "name": "stdout",
     "output_type": "stream",
     "text": [
      "model path: pretrained_y/z_score/model-20.pt\n",
      "loading from: [version]:1.5.4; [step]:200000\n"
     ]
    }
   ],
   "source": [
    "base_path = 'pretrained_y/'\n",
    "model_type = ['no_normalize', 'z_score', 'min_max'][1]\n",
    "model_path = os.path.join(base_path, model_type, 'model-20.pt')\n",
    "print(f'model path: {model_path}')\n",
    "\n",
    "sampler.load(path=model_path)"
   ]
  },
  {
   "cell_type": "markdown",
   "metadata": {},
   "source": [
    "# Sample"
   ]
  },
  {
   "cell_type": "code",
   "execution_count": 5,
   "metadata": {},
   "outputs": [],
   "source": [
    "num_samples = 16\n",
    "return_all_timesteps = False"
   ]
  },
  {
   "cell_type": "code",
   "execution_count": 6,
   "metadata": {},
   "outputs": [
    {
     "name": "stderr",
     "output_type": "stream",
     "text": [
      "sampling loop time step:   0%|          | 0/1000 [00:00<?, ?it/s]"
     ]
    },
    {
     "name": "stderr",
     "output_type": "stream",
     "text": [
      "sampling loop time step: 100%|██████████| 1000/1000 [01:15<00:00, 13.17it/s]\n"
     ]
    },
    {
     "name": "stdout",
     "output_type": "stream",
     "text": [
      "shape: torch.Size([16, 1, 128, 128]) \n",
      "type: torch.float32 \n",
      "max: 1.0           \n",
      "min: 0.0 \n",
      "mean: 0.4393215477466583 \n",
      "std: 0.3429486155509949\n"
     ]
    }
   ],
   "source": [
    "res = sampler.sample(num_samples=num_samples, return_all_timesteps=return_all_timesteps)\n",
    "tensor_info(res)"
   ]
  },
  {
   "cell_type": "markdown",
   "metadata": {},
   "source": [
    "# Save"
   ]
  },
  {
   "cell_type": "code",
   "execution_count": 7,
   "metadata": {},
   "outputs": [],
   "source": [
    "save_folder = os.path.join('sample_out/', model_type)"
   ]
  },
  {
   "cell_type": "code",
   "execution_count": 8,
   "metadata": {},
   "outputs": [],
   "source": [
    "if not return_all_timesteps:\n",
    "    sampler.save_tif(res, folder=save_folder)\n",
    "else:\n",
    "    sampler.save_tif_with_records(res, folder=os.path.join(save_folder, 'record/'), file_name='record_one_batch.tif', step=10)"
   ]
  }
 ],
 "metadata": {
  "kernelspec": {
   "display_name": "dm",
   "language": "python",
   "name": "python3"
  },
  "language_info": {
   "codemirror_mode": {
    "name": "ipython",
    "version": 3
   },
   "file_extension": ".py",
   "mimetype": "text/x-python",
   "name": "python",
   "nbconvert_exporter": "python",
   "pygments_lexer": "ipython3",
   "version": "3.10.8"
  },
  "orig_nbformat": 4
 },
 "nbformat": 4,
 "nbformat_minor": 2
}
