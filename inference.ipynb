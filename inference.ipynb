{
 "cells": [
  {
   "cell_type": "code",
   "execution_count": null,
   "metadata": {},
   "outputs": [],
   "source": [
    "from denoising_diffusion_pytorch import Unet, Sampler, DPS, DenoiseOperator, AnisotropicOperator, DLAnisotropicOperator, GaussialBlurOperator, tensor_info, histc\n",
    "\n",
    "import torch\n",
    "from torch.cuda.amp import autocast as autocast\n",
    "from torchvision import utils\n",
    "\n",
    "import numpy as np\n",
    "import os"
   ]
  },
  {
   "attachments": {},
   "cell_type": "markdown",
   "metadata": {},
   "source": [
    "# Model"
   ]
  },
  {
   "cell_type": "code",
   "execution_count": null,
   "metadata": {},
   "outputs": [],
   "source": [
    "sampling_timesteps = 1000\n",
    "is_ddim_sampling = False\n",
    "\n",
    "# sampling_timesteps = 250\n",
    "# is_ddim_sampling = True"
   ]
  },
  {
   "cell_type": "code",
   "execution_count": null,
   "metadata": {},
   "outputs": [],
   "source": [
    "model = Unet(\n",
    "    dim = 64,\n",
    "    channels=1,\n",
    "    dim_mults = (1, 2, 4, 8)\n",
    ")\n",
    "diffusion = DPS(\n",
    "    model,\n",
    "    image_size = 128,\n",
    "    timesteps = 1000,\n",
    "    sampling_timesteps = sampling_timesteps,\n",
    "    is_ddim_sampling=is_ddim_sampling\n",
    ")\n",
    "sampler = Sampler(diffusion)"
   ]
  },
  {
   "cell_type": "code",
   "execution_count": null,
   "metadata": {},
   "outputs": [],
   "source": [
    "base_path = 'pretrained_y/'\n",
    "model_type = ['no_normalize/', 'z_score/', 'min_max/'][0]\n",
    "model_path = os.path.join(base_path, model_type, 'model-15.pt')\n",
    "sampler.load(path=model_path)"
   ]
  },
  {
   "attachments": {},
   "cell_type": "markdown",
   "metadata": {},
   "source": [
    "# Data"
   ]
  },
  {
   "cell_type": "code",
   "execution_count": null,
   "metadata": {},
   "outputs": [],
   "source": [
    "data_path = \"/home/share/CARE/Isotropic_Liver/train_data/data_label.npz\"\n",
    "data_file = np.load(data_path)\n",
    "lr_data = data_file['Y']"
   ]
  },
  {
   "cell_type": "code",
   "execution_count": null,
   "metadata": {},
   "outputs": [],
   "source": [
    "i = 0\n",
    "one_data = torch.from_numpy(lr_data[i:i+1]).cuda()"
   ]
  },
  {
   "cell_type": "code",
   "execution_count": null,
   "metadata": {},
   "outputs": [],
   "source": [
    "# one_data = (one_data-one_data.mean())/one_data.std()\n",
    "tensor_info(one_data)"
   ]
  },
  {
   "attachments": {},
   "cell_type": "markdown",
   "metadata": {},
   "source": [
    "# Operator"
   ]
  },
  {
   "cell_type": "code",
   "execution_count": null,
   "metadata": {},
   "outputs": [],
   "source": [
    "# operator = AnisotropicOperator(img_shape=one_data.shape, scale=(1,3), noise_sigma=0.01)\n",
    "\n",
    "operator = GaussialBlurOperator(img_shape=one_data.shape)\n",
    "\n",
    "# operator = DenoiseOperator()\n",
    "\n",
    "# d_model_path = 'denoising_diffusion_pytorch/degradation_model/checkpoint/best.pth'\n",
    "# operator = DLAnisotropicOperator(d_model_path, noise_sigma=0.01)"
   ]
  },
  {
   "cell_type": "code",
   "execution_count": null,
   "metadata": {},
   "outputs": [],
   "source": [
    "# one_data = one_data+torch.randn_like(one_data, device=one_data.device)*0.1\n",
    "\n",
    "one_data = (one_data-one_data.min())/(one_data.max()-one_data.min())\n",
    "one_data = operator.forward(one_data)\n",
    "\n",
    "\n",
    "tensor_info(one_data)"
   ]
  },
  {
   "attachments": {},
   "cell_type": "markdown",
   "metadata": {},
   "source": [
    "# Inference"
   ]
  },
  {
   "cell_type": "code",
   "execution_count": null,
   "metadata": {},
   "outputs": [],
   "source": [
    "return_all_timesteps = False\n",
    "scale = 15\n",
    "num_samples = 16\n",
    "out_folder = os.path.join('./dps_out/', model_type)"
   ]
  },
  {
   "cell_type": "code",
   "execution_count": null,
   "metadata": {},
   "outputs": [],
   "source": [
    "res = sampler.dps(measurement=one_data, operator=operator, num_samples=num_samples, scale=scale, return_all_timesteps=return_all_timesteps)\n",
    "tensor_info(res)"
   ]
  },
  {
   "cell_type": "code",
   "execution_count": null,
   "metadata": {},
   "outputs": [],
   "source": [
    "sampler.save_tif(one_data, folder=os.path.join(out_folder, 'input.tif'))\n",
    "if not return_all_timesteps:\n",
    "    sampler.save_tif(res, folder=os.path.join(out_folder))\n",
    "else:\n",
    "    sampler.save_tif_with_records(res, folder=out_folder, step=10)"
   ]
  },
  {
   "cell_type": "code",
   "execution_count": null,
   "metadata": {},
   "outputs": [],
   "source": [
    "#"
   ]
  }
 ],
 "metadata": {
  "kernelspec": {
   "display_name": "dm",
   "language": "python",
   "name": "python3"
  },
  "language_info": {
   "codemirror_mode": {
    "name": "ipython",
    "version": 3
   },
   "file_extension": ".py",
   "mimetype": "text/x-python",
   "name": "python",
   "nbconvert_exporter": "python",
   "pygments_lexer": "ipython3",
   "version": "3.10.8"
  },
  "orig_nbformat": 4
 },
 "nbformat": 4,
 "nbformat_minor": 2
}
